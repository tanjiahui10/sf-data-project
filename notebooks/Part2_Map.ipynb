{
 "cells": [
  {
   "cell_type": "markdown",
   "metadata": {},
   "source": [
    "## Analysis of SF311 data regarding human and animal wastes \n",
    "\n",
    "Our team analyzed non-emergency 311 calls regarding human and animal wastes to San Francisco city. This notebook explores which neighborhood in San Francisco had higher concentration of wastes in 2019."
   ]
  },
  {
   "cell_type": "code",
   "execution_count": 148,
   "metadata": {},
   "outputs": [],
   "source": [
    "import pandas as pd\n",
    "import geopandas as gpd\n",
    "from matplotlib import pyplot as plt"
   ]
  },
  {
   "cell_type": "code",
   "execution_count": 149,
   "metadata": {},
   "outputs": [],
   "source": [
    "%matplotlib inline"
   ]
  },
  {
   "cell_type": "markdown",
   "metadata": {},
   "source": [
    "This data originally came from 311 calls data on San Francisco open data portal. The data was vetted through DB Browser for SQLite, which allowed us to filter for RequestType that corresponds to human and animal waste calls. We saved the file as \"human_animal_waste_311.csv\" and used it for our analysis below. \n",
    "\n",
    "Original data source: https://data.sfgov.org/City-Infrastructure/311-Cases/vw6y-z8j6"
   ]
  },
  {
   "cell_type": "code",
   "execution_count": 150,
   "metadata": {},
   "outputs": [],
   "source": [
    "import os\n",
    "data_dir = os.environ['DATA_DIR']\n",
    "waste_fp = os.path.join(data_dir, 'processed', 'human_animal_waste_311.csv')\n",
    "with open(waste_fp, 'r') as source_file:\n",
    "    text = source_file.read()"
   ]
  },
  {
   "cell_type": "code",
   "execution_count": 151,
   "metadata": {},
   "outputs": [],
   "source": [
    "waste = pd.read_csv(waste_fp)"
   ]
  },
  {
   "cell_type": "code",
   "execution_count": 152,
   "metadata": {},
   "outputs": [
    {
     "name": "stdout",
     "output_type": "stream",
     "text": [
      "<class 'pandas.core.frame.DataFrame'>\n",
      "RangeIndex: 163435 entries, 0 to 163434\n",
      "Data columns (total 47 columns):\n",
      " #   Column                       Non-Null Count   Dtype  \n",
      "---  ------                       --------------   -----  \n",
      " 0   CaseID                       163435 non-null  int64  \n",
      " 1   Opened                       163435 non-null  object \n",
      " 2   Closed                       162126 non-null  object \n",
      " 3   Updated                      163435 non-null  object \n",
      " 4   Status                       163435 non-null  object \n",
      " 5   StatusNotes                  163380 non-null  object \n",
      " 6   ResponsibleAgency            163435 non-null  object \n",
      " 7   Category                     163435 non-null  object \n",
      " 8   RequestType                  163435 non-null  object \n",
      " 9   RequestDetails               163429 non-null  object \n",
      " 10  Address                      163435 non-null  object \n",
      " 11  Street                       161876 non-null  object \n",
      " 12  SupervisorDistrict           161876 non-null  float64\n",
      " 13  Neighborhood                 161512 non-null  object \n",
      " 14  PoliceDistrict               161482 non-null  object \n",
      " 15  Latitude                     163435 non-null  float64\n",
      " 16  Longitude                    163435 non-null  float64\n",
      " 17  Point                        163435 non-null  object \n",
      " 18  Source                       163435 non-null  object \n",
      " 19  MediaURL                     59240 non-null   object \n",
      " 20  SFFindNeighborhoods          161445 non-null  float64\n",
      " 21  CurrentPoliceDistricts       161597 non-null  float64\n",
      " 22  CurrentSupervisorDistricts   161642 non-null  float64\n",
      " 23  AnalysisNeighborhoods        161630 non-null  float64\n",
      " 24  :@computed_region_rxqg_mtj9  161642 non-null  float64\n",
      " 25  :@computed_region_yftq_j783  161424 non-null  float64\n",
      " 26  :@computed_region_jx4q_fizf  161613 non-null  float64\n",
      " 27  :@computed_region_bh8s_q3mv  161675 non-null  float64\n",
      " 28  :@computed_region_p5aj_wyqh  161613 non-null  float64\n",
      " 29  :@computed_region_fyvs_ahh9  161630 non-null  float64\n",
      " 30  :@computed_region_f58d_8dbm  161630 non-null  float64\n",
      " 31  :@computed_region_9dfj_4gjx  56168 non-null   float64\n",
      " 32  :@computed_region_vtsz_7cme  161445 non-null  float64\n",
      " 33  :@computed_region_n4xg_c4py  50132 non-null   float64\n",
      " 34  :@computed_region_sruu_94in  161642 non-null  float64\n",
      " 35  :@computed_region_4isq_27mq  56406 non-null   float64\n",
      " 36  :@computed_region_viu7_rrfi  11470 non-null   float64\n",
      " 37  :@computed_region_fcz8_est8  61929 non-null   float64\n",
      " 38  :@computed_region_pigm_ib2e  57809 non-null   float64\n",
      " 39  :@computed_region_9jxd_iqea  55998 non-null   float64\n",
      " 40  :@computed_region_6ezc_tdp2  53593 non-null   float64\n",
      " 41  :@computed_region_6pnf_4xz7  161630 non-null  float64\n",
      " 42  :@computed_region_h4ep_8xdi  53888 non-null   float64\n",
      " 43  :@computed_region_nqbw_i6c3  65863 non-null   float64\n",
      " 44  :@computed_region_2dwj_jsy4  5715 non-null    float64\n",
      " 45  :@computed_region_y6ts_4iup  1464 non-null    float64\n",
      " 46  Neighborhoods                161445 non-null  float64\n",
      "dtypes: float64(30), int64(1), object(16)\n",
      "memory usage: 58.6+ MB\n"
     ]
    }
   ],
   "source": [
    "waste.info()"
   ]
  },
  {
   "cell_type": "markdown",
   "metadata": {},
   "source": [
    "We wanted to focus on requests that came in during 2019, which was the year with the highest amount of waste overall. In order to do so, we first extracted the \"year\" from the \"Opened\" column (which includes the full date for when the request came in) and created a new column."
   ]
  },
  {
   "cell_type": "code",
   "execution_count": 153,
   "metadata": {},
   "outputs": [],
   "source": [
    "waste['year'] = pd.DatetimeIndex(waste['Opened']).year"
   ]
  },
  {
   "cell_type": "code",
   "execution_count": 154,
   "metadata": {},
   "outputs": [
    {
     "name": "stdout",
     "output_type": "stream",
     "text": [
      "<class 'pandas.core.frame.DataFrame'>\n",
      "RangeIndex: 163435 entries, 0 to 163434\n",
      "Data columns (total 48 columns):\n",
      " #   Column                       Non-Null Count   Dtype  \n",
      "---  ------                       --------------   -----  \n",
      " 0   CaseID                       163435 non-null  int64  \n",
      " 1   Opened                       163435 non-null  object \n",
      " 2   Closed                       162126 non-null  object \n",
      " 3   Updated                      163435 non-null  object \n",
      " 4   Status                       163435 non-null  object \n",
      " 5   StatusNotes                  163380 non-null  object \n",
      " 6   ResponsibleAgency            163435 non-null  object \n",
      " 7   Category                     163435 non-null  object \n",
      " 8   RequestType                  163435 non-null  object \n",
      " 9   RequestDetails               163429 non-null  object \n",
      " 10  Address                      163435 non-null  object \n",
      " 11  Street                       161876 non-null  object \n",
      " 12  SupervisorDistrict           161876 non-null  float64\n",
      " 13  Neighborhood                 161512 non-null  object \n",
      " 14  PoliceDistrict               161482 non-null  object \n",
      " 15  Latitude                     163435 non-null  float64\n",
      " 16  Longitude                    163435 non-null  float64\n",
      " 17  Point                        163435 non-null  object \n",
      " 18  Source                       163435 non-null  object \n",
      " 19  MediaURL                     59240 non-null   object \n",
      " 20  SFFindNeighborhoods          161445 non-null  float64\n",
      " 21  CurrentPoliceDistricts       161597 non-null  float64\n",
      " 22  CurrentSupervisorDistricts   161642 non-null  float64\n",
      " 23  AnalysisNeighborhoods        161630 non-null  float64\n",
      " 24  :@computed_region_rxqg_mtj9  161642 non-null  float64\n",
      " 25  :@computed_region_yftq_j783  161424 non-null  float64\n",
      " 26  :@computed_region_jx4q_fizf  161613 non-null  float64\n",
      " 27  :@computed_region_bh8s_q3mv  161675 non-null  float64\n",
      " 28  :@computed_region_p5aj_wyqh  161613 non-null  float64\n",
      " 29  :@computed_region_fyvs_ahh9  161630 non-null  float64\n",
      " 30  :@computed_region_f58d_8dbm  161630 non-null  float64\n",
      " 31  :@computed_region_9dfj_4gjx  56168 non-null   float64\n",
      " 32  :@computed_region_vtsz_7cme  161445 non-null  float64\n",
      " 33  :@computed_region_n4xg_c4py  50132 non-null   float64\n",
      " 34  :@computed_region_sruu_94in  161642 non-null  float64\n",
      " 35  :@computed_region_4isq_27mq  56406 non-null   float64\n",
      " 36  :@computed_region_viu7_rrfi  11470 non-null   float64\n",
      " 37  :@computed_region_fcz8_est8  61929 non-null   float64\n",
      " 38  :@computed_region_pigm_ib2e  57809 non-null   float64\n",
      " 39  :@computed_region_9jxd_iqea  55998 non-null   float64\n",
      " 40  :@computed_region_6ezc_tdp2  53593 non-null   float64\n",
      " 41  :@computed_region_6pnf_4xz7  161630 non-null  float64\n",
      " 42  :@computed_region_h4ep_8xdi  53888 non-null   float64\n",
      " 43  :@computed_region_nqbw_i6c3  65863 non-null   float64\n",
      " 44  :@computed_region_2dwj_jsy4  5715 non-null    float64\n",
      " 45  :@computed_region_y6ts_4iup  1464 non-null    float64\n",
      " 46  Neighborhoods                161445 non-null  float64\n",
      " 47  year                         163435 non-null  int64  \n",
      "dtypes: float64(30), int64(2), object(16)\n",
      "memory usage: 59.9+ MB\n"
     ]
    }
   ],
   "source": [
    "waste.info() # this shows new \"year\" column at the end "
   ]
  },
  {
   "cell_type": "markdown",
   "metadata": {},
   "source": [
    "We then selected the columns that we wanted to keep. "
   ]
  },
  {
   "cell_type": "code",
   "execution_count": 155,
   "metadata": {},
   "outputs": [],
   "source": [
    "waste_trunc = waste[['CaseID','Neighborhood','Category','Latitude','Longitude','year']] "
   ]
  },
  {
   "cell_type": "code",
   "execution_count": 156,
   "metadata": {},
   "outputs": [
    {
     "name": "stdout",
     "output_type": "stream",
     "text": [
      "<class 'pandas.core.frame.DataFrame'>\n",
      "RangeIndex: 163435 entries, 0 to 163434\n",
      "Data columns (total 6 columns):\n",
      " #   Column        Non-Null Count   Dtype  \n",
      "---  ------        --------------   -----  \n",
      " 0   CaseID        163435 non-null  int64  \n",
      " 1   Neighborhood  161512 non-null  object \n",
      " 2   Category      163435 non-null  object \n",
      " 3   Latitude      163435 non-null  float64\n",
      " 4   Longitude     163435 non-null  float64\n",
      " 5   year          163435 non-null  int64  \n",
      "dtypes: float64(2), int64(2), object(2)\n",
      "memory usage: 7.5+ MB\n"
     ]
    }
   ],
   "source": [
    "waste_trunc.info()"
   ]
  },
  {
   "cell_type": "markdown",
   "metadata": {},
   "source": [
    "Then we filtered for calls that were requested in 2019. "
   ]
  },
  {
   "cell_type": "code",
   "execution_count": 157,
   "metadata": {},
   "outputs": [],
   "source": [
    "waste_2019 = waste_trunc['year']==2019"
   ]
  },
  {
   "cell_type": "code",
   "execution_count": 158,
   "metadata": {},
   "outputs": [],
   "source": [
    "waste_2019_list = waste_trunc[waste_2019]"
   ]
  },
  {
   "cell_type": "code",
   "execution_count": 159,
   "metadata": {},
   "outputs": [
    {
     "data": {
      "text/html": [
       "<div>\n",
       "<style scoped>\n",
       "    .dataframe tbody tr th:only-of-type {\n",
       "        vertical-align: middle;\n",
       "    }\n",
       "\n",
       "    .dataframe tbody tr th {\n",
       "        vertical-align: top;\n",
       "    }\n",
       "\n",
       "    .dataframe thead th {\n",
       "        text-align: right;\n",
       "    }\n",
       "</style>\n",
       "<table border=\"1\" class=\"dataframe\">\n",
       "  <thead>\n",
       "    <tr style=\"text-align: right;\">\n",
       "      <th></th>\n",
       "      <th>CaseID</th>\n",
       "      <th>Neighborhood</th>\n",
       "      <th>Category</th>\n",
       "      <th>Latitude</th>\n",
       "      <th>Longitude</th>\n",
       "      <th>year</th>\n",
       "    </tr>\n",
       "  </thead>\n",
       "  <tbody>\n",
       "    <tr>\n",
       "      <th>0</th>\n",
       "      <td>10858769</td>\n",
       "      <td>Civic Center</td>\n",
       "      <td>Street and Sidewalk Cleaning</td>\n",
       "      <td>37.781504</td>\n",
       "      <td>-122.417337</td>\n",
       "      <td>2019</td>\n",
       "    </tr>\n",
       "    <tr>\n",
       "      <th>33</th>\n",
       "      <td>11707729</td>\n",
       "      <td>Lower Nob Hill</td>\n",
       "      <td>Street and Sidewalk Cleaning</td>\n",
       "      <td>37.787155</td>\n",
       "      <td>-122.412355</td>\n",
       "      <td>2019</td>\n",
       "    </tr>\n",
       "    <tr>\n",
       "      <th>80</th>\n",
       "      <td>11864728</td>\n",
       "      <td>Bernal Heights</td>\n",
       "      <td>Street and Sidewalk Cleaning</td>\n",
       "      <td>37.741352</td>\n",
       "      <td>-122.421795</td>\n",
       "      <td>2019</td>\n",
       "    </tr>\n",
       "    <tr>\n",
       "      <th>106</th>\n",
       "      <td>11881905</td>\n",
       "      <td>Mission</td>\n",
       "      <td>Street and Sidewalk Cleaning</td>\n",
       "      <td>37.769627</td>\n",
       "      <td>-122.417007</td>\n",
       "      <td>2019</td>\n",
       "    </tr>\n",
       "    <tr>\n",
       "      <th>107</th>\n",
       "      <td>11881911</td>\n",
       "      <td>South of Market</td>\n",
       "      <td>Street and Sidewalk Cleaning</td>\n",
       "      <td>37.774436</td>\n",
       "      <td>-122.420334</td>\n",
       "      <td>2019</td>\n",
       "    </tr>\n",
       "  </tbody>\n",
       "</table>\n",
       "</div>"
      ],
      "text/plain": [
       "       CaseID     Neighborhood                      Category   Latitude  \\\n",
       "0    10858769     Civic Center  Street and Sidewalk Cleaning  37.781504   \n",
       "33   11707729   Lower Nob Hill  Street and Sidewalk Cleaning  37.787155   \n",
       "80   11864728   Bernal Heights  Street and Sidewalk Cleaning  37.741352   \n",
       "106  11881905          Mission  Street and Sidewalk Cleaning  37.769627   \n",
       "107  11881911  South of Market  Street and Sidewalk Cleaning  37.774436   \n",
       "\n",
       "      Longitude  year  \n",
       "0   -122.417337  2019  \n",
       "33  -122.412355  2019  \n",
       "80  -122.421795  2019  \n",
       "106 -122.417007  2019  \n",
       "107 -122.420334  2019  "
      ]
     },
     "execution_count": 159,
     "metadata": {},
     "output_type": "execute_result"
    }
   ],
   "source": [
    "waste_2019_list.head()"
   ]
  },
  {
   "cell_type": "markdown",
   "metadata": {},
   "source": [
    "We grouped the data by neighborhood to see the sum of calls regarding wastes for each neighborhood. "
   ]
  },
  {
   "cell_type": "code",
   "execution_count": 168,
   "metadata": {},
   "outputs": [],
   "source": [
    "waste_by_area = waste_2019_list.groupby('Neighborhood').count()"
   ]
  },
  {
   "cell_type": "code",
   "execution_count": 169,
   "metadata": {},
   "outputs": [
    {
     "name": "stdout",
     "output_type": "stream",
     "text": [
      "<class 'pandas.core.frame.DataFrame'>\n",
      "Index: 115 entries, Alamo Square to Westwood Park\n",
      "Data columns (total 5 columns):\n",
      " #   Column     Non-Null Count  Dtype\n",
      "---  ------     --------------  -----\n",
      " 0   CaseID     115 non-null    int64\n",
      " 1   Category   115 non-null    int64\n",
      " 2   Latitude   115 non-null    int64\n",
      " 3   Longitude  115 non-null    int64\n",
      " 4   year       115 non-null    int64\n",
      "dtypes: int64(5)\n",
      "memory usage: 5.4+ KB\n"
     ]
    }
   ],
   "source": [
    "waste_by_area.info()"
   ]
  },
  {
   "cell_type": "markdown",
   "metadata": {},
   "source": [
    "In order to create a map, we downloaded the neighborhood map in shape file from the same open data portal.\n",
    "\n",
    "Shape file source: https://data.sfgov.org/Geographic-Locations-and-Boundaries/Analysis-Neighborhoods/p5b7-5n3h"
   ]
  },
  {
   "cell_type": "code",
   "execution_count": 160,
   "metadata": {},
   "outputs": [],
   "source": [
    "data_dir = os.environ['DATA_DIR']\n",
    "sf_shape_fp = os.path.join(data_dir, 'raw', 'sf_neighborhoods.shp')\n",
    "with open(sf_shape_fp, 'rb') as source_file:\n",
    "    text = source_file.read()"
   ]
  },
  {
   "cell_type": "code",
   "execution_count": 161,
   "metadata": {},
   "outputs": [],
   "source": [
    "sf_shape = gpd.read_file(sf_shape_fp)"
   ]
  },
  {
   "cell_type": "code",
   "execution_count": 162,
   "metadata": {},
   "outputs": [
    {
     "data": {
      "text/html": [
       "<div>\n",
       "<style scoped>\n",
       "    .dataframe tbody tr th:only-of-type {\n",
       "        vertical-align: middle;\n",
       "    }\n",
       "\n",
       "    .dataframe tbody tr th {\n",
       "        vertical-align: top;\n",
       "    }\n",
       "\n",
       "    .dataframe thead th {\n",
       "        text-align: right;\n",
       "    }\n",
       "</style>\n",
       "<table border=\"1\" class=\"dataframe\">\n",
       "  <thead>\n",
       "    <tr style=\"text-align: right;\">\n",
       "      <th></th>\n",
       "      <th>nhood</th>\n",
       "      <th>geometry</th>\n",
       "    </tr>\n",
       "  </thead>\n",
       "  <tbody>\n",
       "    <tr>\n",
       "      <th>0</th>\n",
       "      <td>Bayview Hunters Point</td>\n",
       "      <td>POLYGON ((-122.38158 37.75307, -122.38157 37.7...</td>\n",
       "    </tr>\n",
       "    <tr>\n",
       "      <th>1</th>\n",
       "      <td>Bernal Heights</td>\n",
       "      <td>POLYGON ((-122.40361 37.74934, -122.40378 37.7...</td>\n",
       "    </tr>\n",
       "    <tr>\n",
       "      <th>2</th>\n",
       "      <td>Castro/Upper Market</td>\n",
       "      <td>POLYGON ((-122.42656 37.76948, -122.42695 37.7...</td>\n",
       "    </tr>\n",
       "    <tr>\n",
       "      <th>3</th>\n",
       "      <td>Chinatown</td>\n",
       "      <td>POLYGON ((-122.40623 37.79756, -122.40551 37.7...</td>\n",
       "    </tr>\n",
       "    <tr>\n",
       "      <th>4</th>\n",
       "      <td>Excelsior</td>\n",
       "      <td>POLYGON ((-122.42398 37.73155, -122.42392 37.7...</td>\n",
       "    </tr>\n",
       "  </tbody>\n",
       "</table>\n",
       "</div>"
      ],
      "text/plain": [
       "                   nhood                                           geometry\n",
       "0  Bayview Hunters Point  POLYGON ((-122.38158 37.75307, -122.38157 37.7...\n",
       "1         Bernal Heights  POLYGON ((-122.40361 37.74934, -122.40378 37.7...\n",
       "2    Castro/Upper Market  POLYGON ((-122.42656 37.76948, -122.42695 37.7...\n",
       "3              Chinatown  POLYGON ((-122.40623 37.79756, -122.40551 37.7...\n",
       "4              Excelsior  POLYGON ((-122.42398 37.73155, -122.42392 37.7..."
      ]
     },
     "execution_count": 162,
     "metadata": {},
     "output_type": "execute_result"
    }
   ],
   "source": [
    "sf_shape.head()"
   ]
  },
  {
   "cell_type": "code",
   "execution_count": 163,
   "metadata": {},
   "outputs": [
    {
     "data": {
      "text/plain": [
       "<matplotlib.axes._subplots.AxesSubplot at 0x127b7ce10>"
      ]
     },
     "execution_count": 163,
     "metadata": {},
     "output_type": "execute_result"
    },
    {
     "data": {
      "image/png": "[encoded data removed]",
      "text/plain": [
       "<Figure size 432x288 with 1 Axes>"
      ]
     },
     "metadata": {
      "needs_background": "light"
     },
     "output_type": "display_data"
    }
   ],
   "source": [
    "sf_shape.plot()"
   ]
  },
  {
   "cell_type": "markdown",
   "metadata": {},
   "source": [
    "Creating a map requires joining the shape file with our csv file. To do so, we created a new column called \"Neighborhood\" for our shape file."
   ]
  },
  {
   "cell_type": "code",
   "execution_count": 170,
   "metadata": {},
   "outputs": [],
   "source": [
    "sf_shape['Neighborhood'] = sf_shape['nhood']"
   ]
  },
  {
   "cell_type": "code",
   "execution_count": 171,
   "metadata": {},
   "outputs": [
    {
     "data": {
      "text/html": [
       "<div>\n",
       "<style scoped>\n",
       "    .dataframe tbody tr th:only-of-type {\n",
       "        vertical-align: middle;\n",
       "    }\n",
       "\n",
       "    .dataframe tbody tr th {\n",
       "        vertical-align: top;\n",
       "    }\n",
       "\n",
       "    .dataframe thead th {\n",
       "        text-align: right;\n",
       "    }\n",
       "</style>\n",
       "<table border=\"1\" class=\"dataframe\">\n",
       "  <thead>\n",
       "    <tr style=\"text-align: right;\">\n",
       "      <th></th>\n",
       "      <th>nhood</th>\n",
       "      <th>geometry</th>\n",
       "      <th>Neighborhood</th>\n",
       "    </tr>\n",
       "  </thead>\n",
       "  <tbody>\n",
       "    <tr>\n",
       "      <th>0</th>\n",
       "      <td>Bayview Hunters Point</td>\n",
       "      <td>POLYGON ((-122.38158 37.75307, -122.38157 37.7...</td>\n",
       "      <td>Bayview Hunters Point</td>\n",
       "    </tr>\n",
       "    <tr>\n",
       "      <th>1</th>\n",
       "      <td>Bernal Heights</td>\n",
       "      <td>POLYGON ((-122.40361 37.74934, -122.40378 37.7...</td>\n",
       "      <td>Bernal Heights</td>\n",
       "    </tr>\n",
       "    <tr>\n",
       "      <th>2</th>\n",
       "      <td>Castro/Upper Market</td>\n",
       "      <td>POLYGON ((-122.42656 37.76948, -122.42695 37.7...</td>\n",
       "      <td>Castro/Upper Market</td>\n",
       "    </tr>\n",
       "    <tr>\n",
       "      <th>3</th>\n",
       "      <td>Chinatown</td>\n",
       "      <td>POLYGON ((-122.40623 37.79756, -122.40551 37.7...</td>\n",
       "      <td>Chinatown</td>\n",
       "    </tr>\n",
       "    <tr>\n",
       "      <th>4</th>\n",
       "      <td>Excelsior</td>\n",
       "      <td>POLYGON ((-122.42398 37.73155, -122.42392 37.7...</td>\n",
       "      <td>Excelsior</td>\n",
       "    </tr>\n",
       "  </tbody>\n",
       "</table>\n",
       "</div>"
      ],
      "text/plain": [
       "                   nhood                                           geometry  \\\n",
       "0  Bayview Hunters Point  POLYGON ((-122.38158 37.75307, -122.38157 37.7...   \n",
       "1         Bernal Heights  POLYGON ((-122.40361 37.74934, -122.40378 37.7...   \n",
       "2    Castro/Upper Market  POLYGON ((-122.42656 37.76948, -122.42695 37.7...   \n",
       "3              Chinatown  POLYGON ((-122.40623 37.79756, -122.40551 37.7...   \n",
       "4              Excelsior  POLYGON ((-122.42398 37.73155, -122.42392 37.7...   \n",
       "\n",
       "            Neighborhood  \n",
       "0  Bayview Hunters Point  \n",
       "1         Bernal Heights  \n",
       "2    Castro/Upper Market  \n",
       "3              Chinatown  \n",
       "4              Excelsior  "
      ]
     },
     "execution_count": 171,
     "metadata": {},
     "output_type": "execute_result"
    }
   ],
   "source": [
    "sf_shape.head()"
   ]
  },
  {
   "cell_type": "markdown",
   "metadata": {},
   "source": [
    "We then joined the two files on the column \"Neighborhood.\""
   ]
  },
  {
   "cell_type": "code",
   "execution_count": 174,
   "metadata": {},
   "outputs": [],
   "source": [
    "joined = sf_shape.merge(\n",
    "    waste_by_area,\n",
    "    on = \"Neighborhood\",\n",
    "    how = \"left\",\n",
    ")"
   ]
  },
  {
   "cell_type": "code",
   "execution_count": 175,
   "metadata": {},
   "outputs": [
    {
     "data": {
      "text/html": [
       "<div>\n",
       "<style scoped>\n",
       "    .dataframe tbody tr th:only-of-type {\n",
       "        vertical-align: middle;\n",
       "    }\n",
       "\n",
       "    .dataframe tbody tr th {\n",
       "        vertical-align: top;\n",
       "    }\n",
       "\n",
       "    .dataframe thead th {\n",
       "        text-align: right;\n",
       "    }\n",
       "</style>\n",
       "<table border=\"1\" class=\"dataframe\">\n",
       "  <thead>\n",
       "    <tr style=\"text-align: right;\">\n",
       "      <th></th>\n",
       "      <th>nhood</th>\n",
       "      <th>geometry</th>\n",
       "      <th>Neighborhood</th>\n",
       "      <th>CaseID</th>\n",
       "      <th>Category</th>\n",
       "      <th>Latitude</th>\n",
       "      <th>Longitude</th>\n",
       "      <th>year</th>\n",
       "    </tr>\n",
       "  </thead>\n",
       "  <tbody>\n",
       "    <tr>\n",
       "      <th>0</th>\n",
       "      <td>Bayview Hunters Point</td>\n",
       "      <td>POLYGON ((-122.38158 37.75307, -122.38157 37.7...</td>\n",
       "      <td>Bayview Hunters Point</td>\n",
       "      <td>NaN</td>\n",
       "      <td>NaN</td>\n",
       "      <td>NaN</td>\n",
       "      <td>NaN</td>\n",
       "      <td>NaN</td>\n",
       "    </tr>\n",
       "    <tr>\n",
       "      <th>1</th>\n",
       "      <td>Bernal Heights</td>\n",
       "      <td>POLYGON ((-122.40361 37.74934, -122.40378 37.7...</td>\n",
       "      <td>Bernal Heights</td>\n",
       "      <td>264.0</td>\n",
       "      <td>264.0</td>\n",
       "      <td>264.0</td>\n",
       "      <td>264.0</td>\n",
       "      <td>264.0</td>\n",
       "    </tr>\n",
       "    <tr>\n",
       "      <th>2</th>\n",
       "      <td>Castro/Upper Market</td>\n",
       "      <td>POLYGON ((-122.42656 37.76948, -122.42695 37.7...</td>\n",
       "      <td>Castro/Upper Market</td>\n",
       "      <td>NaN</td>\n",
       "      <td>NaN</td>\n",
       "      <td>NaN</td>\n",
       "      <td>NaN</td>\n",
       "      <td>NaN</td>\n",
       "    </tr>\n",
       "    <tr>\n",
       "      <th>3</th>\n",
       "      <td>Chinatown</td>\n",
       "      <td>POLYGON ((-122.40623 37.79756, -122.40551 37.7...</td>\n",
       "      <td>Chinatown</td>\n",
       "      <td>546.0</td>\n",
       "      <td>546.0</td>\n",
       "      <td>546.0</td>\n",
       "      <td>546.0</td>\n",
       "      <td>546.0</td>\n",
       "    </tr>\n",
       "    <tr>\n",
       "      <th>4</th>\n",
       "      <td>Excelsior</td>\n",
       "      <td>POLYGON ((-122.42398 37.73155, -122.42392 37.7...</td>\n",
       "      <td>Excelsior</td>\n",
       "      <td>92.0</td>\n",
       "      <td>92.0</td>\n",
       "      <td>92.0</td>\n",
       "      <td>92.0</td>\n",
       "      <td>92.0</td>\n",
       "    </tr>\n",
       "  </tbody>\n",
       "</table>\n",
       "</div>"
      ],
      "text/plain": [
       "                   nhood                                           geometry  \\\n",
       "0  Bayview Hunters Point  POLYGON ((-122.38158 37.75307, -122.38157 37.7...   \n",
       "1         Bernal Heights  POLYGON ((-122.40361 37.74934, -122.40378 37.7...   \n",
       "2    Castro/Upper Market  POLYGON ((-122.42656 37.76948, -122.42695 37.7...   \n",
       "3              Chinatown  POLYGON ((-122.40623 37.79756, -122.40551 37.7...   \n",
       "4              Excelsior  POLYGON ((-122.42398 37.73155, -122.42392 37.7...   \n",
       "\n",
       "            Neighborhood  CaseID  Category  Latitude  Longitude   year  \n",
       "0  Bayview Hunters Point     NaN       NaN       NaN        NaN    NaN  \n",
       "1         Bernal Heights   264.0     264.0     264.0      264.0  264.0  \n",
       "2    Castro/Upper Market     NaN       NaN       NaN        NaN    NaN  \n",
       "3              Chinatown   546.0     546.0     546.0      546.0  546.0  \n",
       "4              Excelsior    92.0      92.0      92.0       92.0   92.0  "
      ]
     },
     "execution_count": 175,
     "metadata": {},
     "output_type": "execute_result"
    }
   ],
   "source": [
    "joined.head()"
   ]
  },
  {
   "cell_type": "code",
   "execution_count": 176,
   "metadata": {},
   "outputs": [
    {
     "name": "stdout",
     "output_type": "stream",
     "text": [
      "<class 'geopandas.geodataframe.GeoDataFrame'>\n",
      "Int64Index: 41 entries, 0 to 40\n",
      "Data columns (total 8 columns):\n",
      " #   Column        Non-Null Count  Dtype   \n",
      "---  ------        --------------  -----   \n",
      " 0   nhood         41 non-null     object  \n",
      " 1   geometry      41 non-null     geometry\n",
      " 2   Neighborhood  41 non-null     object  \n",
      " 3   CaseID        31 non-null     float64 \n",
      " 4   Category      31 non-null     float64 \n",
      " 5   Latitude      31 non-null     float64 \n",
      " 6   Longitude     31 non-null     float64 \n",
      " 7   year          31 non-null     float64 \n",
      "dtypes: float64(5), geometry(1), object(2)\n",
      "memory usage: 2.9+ KB\n"
     ]
    }
   ],
   "source": [
    "joined.info()"
   ]
  },
  {
   "cell_type": "markdown",
   "metadata": {},
   "source": [
    "Below is a chloropleth of the human and animal waste 311 calls made in 2019, with darker shades corresponding to more calls."
   ]
  },
  {
   "cell_type": "code",
   "execution_count": 177,
   "metadata": {},
   "outputs": [
    {
     "data": {
      "text/plain": [
       "<matplotlib.axes._subplots.AxesSubplot at 0x12f623650>"
      ]
     },
     "execution_count": 177,
     "metadata": {},
     "output_type": "execute_result"
    },
    {
     "data": {
      "image/png": "[encoded data removed]",
      "text/plain": [
       "<Figure size 1152x576 with 1 Axes>"
      ]
     },
     "metadata": {
      "needs_background": "light"
     },
     "output_type": "display_data"
    }
   ],
   "source": [
    "joined.plot(\n",
    "    column = 'Neighborhood', \n",
    "    cmap = 'Blues',\n",
    "    figsize=(16, 8)\n",
    ")"
   ]
  },
  {
   "cell_type": "code",
   "execution_count": null,
   "metadata": {},
   "outputs": [],
   "source": []
  }
 ],
 "metadata": {
  "kernelspec": {
   "display_name": "Python 3",
   "language": "python",
   "name": "python3"
  },
  "language_info": {
   "codemirror_mode": {
    "name": "ipython",
    "version": 3
   },
   "file_extension": ".py",
   "mimetype": "text/x-python",
   "name": "python",
   "nbconvert_exporter": "python",
   "pygments_lexer": "ipython3",
   "version": "3.7.6"
  }
 },
 "nbformat": 4,
 "nbformat_minor": 4
}

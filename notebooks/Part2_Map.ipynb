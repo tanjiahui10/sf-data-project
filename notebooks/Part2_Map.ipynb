{
 "cells": [
  {
   "cell_type": "markdown",
   "metadata": {},
   "source": [
    "## Analysis of SF311 data regarding human and animal wastes \n",
    "\n",
    "Human waste is a serious health issue in San Francisco, California. It is a bit of a paradox: There are few bathrooms open after 10 p.m. in the city, and yet, public defecation and urination are criminalized for the large homeless population in the famously expensive city. \n",
    "\n",
    "This map identifies neighborhoods with the most waste, which is an indicator of homelessness in San Francisco, for 2019. This was a record year for amount of wastes in the city (refer to Part1 analysis). \n",
    "\n",
    "In order to create the map, our team analyzed non-emergency 311 calls regarding human and animal wastes to San Francisco city. It should be noted that 311 calls cannot differentiate from human and animal waste."
   ]
  },
  {
   "cell_type": "code",
   "execution_count": 2,
   "metadata": {},
   "outputs": [],
   "source": [
    "import pandas as pd\n",
    "import geopandas as gpd\n",
    "from matplotlib import pyplot as plt"
   ]
  },
  {
   "cell_type": "code",
   "execution_count": 3,
   "metadata": {},
   "outputs": [],
   "source": [
    "%matplotlib inline"
   ]
  },
  {
   "cell_type": "markdown",
   "metadata": {},
   "source": [
    "## Initial data vetting\n",
    "\n",
    "This data originally came from 311 calls data on San Francisco open data portal. The data was vetted through DB Browser for SQLite, which allowed us to filter for RequestType that corresponds to human and animal waste calls. We saved the file as \"human_animal_waste_311.csv\" and used it for our analysis below. \n",
    "\n",
    "Original data source: https://data.sfgov.org/City-Infrastructure/311-Cases/vw6y-z8j6"
   ]
  },
  {
   "cell_type": "markdown",
   "metadata": {},
   "source": [
    "Below is the SQL query we used to vet data: \n",
    "\n",
    "CREATE TABLE human_animal_waste_311 AS\n",
    "\n",
    "SELECT CaseID, Opened, RequestType, Neighborhood, Latitude, Longitude\n",
    "\n",
    "FROM \"311_Cases\"\n",
    "\n",
    "WHERE (RequestType LIKE 'Human/Animal Waste') OR (RequestType LIKE 'Human%Animal Waste')"
   ]
  },
  {
   "cell_type": "code",
   "execution_count": 4,
   "metadata": {},
   "outputs": [],
   "source": [
    "import os\n",
    "data_dir = os.environ['DATA_DIR']\n",
    "waste_fp = os.path.join(data_dir, 'processed', 'human_animal_waste_311.csv')\n",
    "with open(waste_fp, 'r') as source_file:\n",
    "    text = source_file.read()"
   ]
  },
  {
   "cell_type": "code",
   "execution_count": 5,
   "metadata": {},
   "outputs": [
    {
     "name": "stdout",
     "output_type": "stream",
     "text": [
      "<class 'pandas.core.frame.DataFrame'>\n",
      "RangeIndex: 163435 entries, 0 to 163434\n",
      "Data columns (total 6 columns):\n",
      " #   Column        Non-Null Count   Dtype  \n",
      "---  ------        --------------   -----  \n",
      " 0   CaseID        163435 non-null  int64  \n",
      " 1   Opened        163435 non-null  object \n",
      " 2   RequestType   163435 non-null  object \n",
      " 3   Neighborhood  161512 non-null  object \n",
      " 4   Latitude      163435 non-null  float64\n",
      " 5   Longitude     163435 non-null  float64\n",
      "dtypes: float64(2), int64(1), object(3)\n",
      "memory usage: 7.5+ MB\n"
     ]
    }
   ],
   "source": [
    "waste = pd.read_csv(waste_fp)\n",
    "waste.info()"
   ]
  },
  {
   "cell_type": "markdown",
   "metadata": {},
   "source": [
    "##  Data analysis\n",
    "\n",
    "We wanted to focus on requests that came in during 2019, which was the year with the highest amount of waste overall. In order to do so, we first extracted the \"year\" from the \"Opened\" column (which includes the full date for when the request came in) and created a new column."
   ]
  },
  {
   "cell_type": "code",
   "execution_count": 6,
   "metadata": {},
   "outputs": [
    {
     "name": "stdout",
     "output_type": "stream",
     "text": [
      "<class 'pandas.core.frame.DataFrame'>\n",
      "RangeIndex: 163435 entries, 0 to 163434\n",
      "Data columns (total 7 columns):\n",
      " #   Column        Non-Null Count   Dtype  \n",
      "---  ------        --------------   -----  \n",
      " 0   CaseID        163435 non-null  int64  \n",
      " 1   Opened        163435 non-null  object \n",
      " 2   RequestType   163435 non-null  object \n",
      " 3   Neighborhood  161512 non-null  object \n",
      " 4   Latitude      163435 non-null  float64\n",
      " 5   Longitude     163435 non-null  float64\n",
      " 6   year          163435 non-null  int64  \n",
      "dtypes: float64(2), int64(2), object(3)\n",
      "memory usage: 8.7+ MB\n"
     ]
    }
   ],
   "source": [
    "waste['year'] = pd.DatetimeIndex(waste['Opened']).year\n",
    "waste.info() # this shows new \"year\" column at the end "
   ]
  },
  {
   "cell_type": "markdown",
   "metadata": {},
   "source": [
    "We then selected the columns that we wanted to keep. "
   ]
  },
  {
   "cell_type": "code",
   "execution_count": 7,
   "metadata": {},
   "outputs": [
    {
     "name": "stdout",
     "output_type": "stream",
     "text": [
      "<class 'pandas.core.frame.DataFrame'>\n",
      "RangeIndex: 163435 entries, 0 to 163434\n",
      "Data columns (total 6 columns):\n",
      " #   Column        Non-Null Count   Dtype  \n",
      "---  ------        --------------   -----  \n",
      " 0   CaseID        163435 non-null  int64  \n",
      " 1   Neighborhood  161512 non-null  object \n",
      " 2   RequestType   163435 non-null  object \n",
      " 3   Latitude      163435 non-null  float64\n",
      " 4   Longitude     163435 non-null  float64\n",
      " 5   year          163435 non-null  int64  \n",
      "dtypes: float64(2), int64(2), object(2)\n",
      "memory usage: 7.5+ MB\n"
     ]
    }
   ],
   "source": [
    "waste_trunc = waste[['CaseID','Neighborhood','RequestType','Latitude','Longitude','year']] \n",
    "waste_trunc.info()"
   ]
  },
  {
   "cell_type": "markdown",
   "metadata": {},
   "source": [
    "Below, we filtered for calls that were requested in 2019. "
   ]
  },
  {
   "cell_type": "code",
   "execution_count": 8,
   "metadata": {},
   "outputs": [
    {
     "data": {
      "text/html": [
       "<div>\n",
       "<style scoped>\n",
       "    .dataframe tbody tr th:only-of-type {\n",
       "        vertical-align: middle;\n",
       "    }\n",
       "\n",
       "    .dataframe tbody tr th {\n",
       "        vertical-align: top;\n",
       "    }\n",
       "\n",
       "    .dataframe thead th {\n",
       "        text-align: right;\n",
       "    }\n",
       "</style>\n",
       "<table border=\"1\" class=\"dataframe\">\n",
       "  <thead>\n",
       "    <tr style=\"text-align: right;\">\n",
       "      <th></th>\n",
       "      <th>CaseID</th>\n",
       "      <th>Neighborhood</th>\n",
       "      <th>RequestType</th>\n",
       "      <th>Latitude</th>\n",
       "      <th>Longitude</th>\n",
       "      <th>year</th>\n",
       "    </tr>\n",
       "  </thead>\n",
       "  <tbody>\n",
       "    <tr>\n",
       "      <th>0</th>\n",
       "      <td>10858769</td>\n",
       "      <td>Civic Center</td>\n",
       "      <td>Human or Animal Waste</td>\n",
       "      <td>37.781504</td>\n",
       "      <td>-122.417337</td>\n",
       "      <td>2019</td>\n",
       "    </tr>\n",
       "    <tr>\n",
       "      <th>33</th>\n",
       "      <td>11707729</td>\n",
       "      <td>Lower Nob Hill</td>\n",
       "      <td>Human or Animal Waste</td>\n",
       "      <td>37.787155</td>\n",
       "      <td>-122.412355</td>\n",
       "      <td>2019</td>\n",
       "    </tr>\n",
       "    <tr>\n",
       "      <th>80</th>\n",
       "      <td>11864728</td>\n",
       "      <td>Bernal Heights</td>\n",
       "      <td>Human or Animal Waste</td>\n",
       "      <td>37.741352</td>\n",
       "      <td>-122.421795</td>\n",
       "      <td>2019</td>\n",
       "    </tr>\n",
       "    <tr>\n",
       "      <th>106</th>\n",
       "      <td>11881905</td>\n",
       "      <td>Mission</td>\n",
       "      <td>Human or Animal Waste</td>\n",
       "      <td>37.769627</td>\n",
       "      <td>-122.417007</td>\n",
       "      <td>2019</td>\n",
       "    </tr>\n",
       "    <tr>\n",
       "      <th>107</th>\n",
       "      <td>11881911</td>\n",
       "      <td>South of Market</td>\n",
       "      <td>Human or Animal Waste</td>\n",
       "      <td>37.774436</td>\n",
       "      <td>-122.420334</td>\n",
       "      <td>2019</td>\n",
       "    </tr>\n",
       "  </tbody>\n",
       "</table>\n",
       "</div>"
      ],
      "text/plain": [
       "       CaseID     Neighborhood            RequestType   Latitude   Longitude  \\\n",
       "0    10858769     Civic Center  Human or Animal Waste  37.781504 -122.417337   \n",
       "33   11707729   Lower Nob Hill  Human or Animal Waste  37.787155 -122.412355   \n",
       "80   11864728   Bernal Heights  Human or Animal Waste  37.741352 -122.421795   \n",
       "106  11881905          Mission  Human or Animal Waste  37.769627 -122.417007   \n",
       "107  11881911  South of Market  Human or Animal Waste  37.774436 -122.420334   \n",
       "\n",
       "     year  \n",
       "0    2019  \n",
       "33   2019  \n",
       "80   2019  \n",
       "106  2019  \n",
       "107  2019  "
      ]
     },
     "execution_count": 8,
     "metadata": {},
     "output_type": "execute_result"
    }
   ],
   "source": [
    "waste_2019 = waste_trunc['year']==2019\n",
    "waste_2019_list = waste_trunc[waste_2019]\n",
    "waste_2019_list.head()"
   ]
  },
  {
   "cell_type": "markdown",
   "metadata": {},
   "source": [
    "We grouped the data by neighborhood to see the sum of calls regarding wastes for each neighborhood. "
   ]
  },
  {
   "cell_type": "code",
   "execution_count": 56,
   "metadata": {},
   "outputs": [
    {
     "data": {
      "text/html": [
       "<div>\n",
       "<style scoped>\n",
       "    .dataframe tbody tr th:only-of-type {\n",
       "        vertical-align: middle;\n",
       "    }\n",
       "\n",
       "    .dataframe tbody tr th {\n",
       "        vertical-align: top;\n",
       "    }\n",
       "\n",
       "    .dataframe thead th {\n",
       "        text-align: right;\n",
       "    }\n",
       "</style>\n",
       "<table border=\"1\" class=\"dataframe\">\n",
       "  <thead>\n",
       "    <tr style=\"text-align: right;\">\n",
       "      <th></th>\n",
       "      <th>count</th>\n",
       "    </tr>\n",
       "    <tr>\n",
       "      <th>Neighborhood</th>\n",
       "      <th></th>\n",
       "    </tr>\n",
       "  </thead>\n",
       "  <tbody>\n",
       "    <tr>\n",
       "      <th>Alamo Square</th>\n",
       "      <td>109</td>\n",
       "    </tr>\n",
       "    <tr>\n",
       "      <th>Anza Vista</th>\n",
       "      <td>27</td>\n",
       "    </tr>\n",
       "    <tr>\n",
       "      <th>Apparel City</th>\n",
       "      <td>39</td>\n",
       "    </tr>\n",
       "    <tr>\n",
       "      <th>Aquatic Park / Ft. Mason</th>\n",
       "      <td>37</td>\n",
       "    </tr>\n",
       "    <tr>\n",
       "      <th>Ashbury Heights</th>\n",
       "      <td>23</td>\n",
       "    </tr>\n",
       "  </tbody>\n",
       "</table>\n",
       "</div>"
      ],
      "text/plain": [
       "                          count\n",
       "Neighborhood                   \n",
       "Alamo Square                109\n",
       "Anza Vista                   27\n",
       "Apparel City                 39\n",
       "Aquatic Park / Ft. Mason     37\n",
       "Ashbury Heights              23"
      ]
     },
     "execution_count": 56,
     "metadata": {},
     "output_type": "execute_result"
    }
   ],
   "source": [
    "waste_by_area = waste_2019_list.fillna(\"None\").groupby('Neighborhood').count()\n",
    "waste_by_area['count'] = waste_by_area['CaseID']\n",
    "waste_by_area = waste_by_area[['count']] \n",
    "waste_by_area.head()"
   ]
  },
  {
   "cell_type": "markdown",
   "metadata": {},
   "source": [
    "## Data visualization\n",
    "\n",
    "In order to create a map, we downloaded the San Francisco neighborhood map in shape file from the same open data portal.\n",
    "\n",
    "Shape file source: https://data.sfgov.org/Geographic-Locations-and-Boundaries/Analysis-Neighborhoods/p5b7-5n3h"
   ]
  },
  {
   "cell_type": "code",
   "execution_count": 10,
   "metadata": {},
   "outputs": [],
   "source": [
    "data_dir = os.environ['DATA_DIR']\n",
    "sf_shape_fp = os.path.join(data_dir, 'raw', 'sf_neighborhoods.shp')\n",
    "with open(sf_shape_fp, 'rb') as source_file:\n",
    "    text = source_file.read()"
   ]
  },
  {
   "cell_type": "code",
   "execution_count": 11,
   "metadata": {},
   "outputs": [],
   "source": [
    "sf_shape = gpd.read_file(sf_shape_fp)"
   ]
  },
  {
   "cell_type": "code",
   "execution_count": 12,
   "metadata": {},
   "outputs": [
    {
     "data": {
      "text/html": [
       "<div>\n",
       "<style scoped>\n",
       "    .dataframe tbody tr th:only-of-type {\n",
       "        vertical-align: middle;\n",
       "    }\n",
       "\n",
       "    .dataframe tbody tr th {\n",
       "        vertical-align: top;\n",
       "    }\n",
       "\n",
       "    .dataframe thead th {\n",
       "        text-align: right;\n",
       "    }\n",
       "</style>\n",
       "<table border=\"1\" class=\"dataframe\">\n",
       "  <thead>\n",
       "    <tr style=\"text-align: right;\">\n",
       "      <th></th>\n",
       "      <th>nhood</th>\n",
       "      <th>geometry</th>\n",
       "    </tr>\n",
       "  </thead>\n",
       "  <tbody>\n",
       "    <tr>\n",
       "      <th>0</th>\n",
       "      <td>Bayview Hunters Point</td>\n",
       "      <td>POLYGON ((-122.38158 37.75307, -122.38157 37.7...</td>\n",
       "    </tr>\n",
       "    <tr>\n",
       "      <th>1</th>\n",
       "      <td>Bernal Heights</td>\n",
       "      <td>POLYGON ((-122.40361 37.74934, -122.40378 37.7...</td>\n",
       "    </tr>\n",
       "    <tr>\n",
       "      <th>2</th>\n",
       "      <td>Castro/Upper Market</td>\n",
       "      <td>POLYGON ((-122.42656 37.76948, -122.42695 37.7...</td>\n",
       "    </tr>\n",
       "    <tr>\n",
       "      <th>3</th>\n",
       "      <td>Chinatown</td>\n",
       "      <td>POLYGON ((-122.40623 37.79756, -122.40551 37.7...</td>\n",
       "    </tr>\n",
       "    <tr>\n",
       "      <th>4</th>\n",
       "      <td>Excelsior</td>\n",
       "      <td>POLYGON ((-122.42398 37.73155, -122.42392 37.7...</td>\n",
       "    </tr>\n",
       "  </tbody>\n",
       "</table>\n",
       "</div>"
      ],
      "text/plain": [
       "                   nhood                                           geometry\n",
       "0  Bayview Hunters Point  POLYGON ((-122.38158 37.75307, -122.38157 37.7...\n",
       "1         Bernal Heights  POLYGON ((-122.40361 37.74934, -122.40378 37.7...\n",
       "2    Castro/Upper Market  POLYGON ((-122.42656 37.76948, -122.42695 37.7...\n",
       "3              Chinatown  POLYGON ((-122.40623 37.79756, -122.40551 37.7...\n",
       "4              Excelsior  POLYGON ((-122.42398 37.73155, -122.42392 37.7..."
      ]
     },
     "execution_count": 12,
     "metadata": {},
     "output_type": "execute_result"
    }
   ],
   "source": [
    "sf_shape.head()"
   ]
  },
  {
   "cell_type": "code",
   "execution_count": 13,
   "metadata": {},
   "outputs": [
    {
     "data": {
      "text/plain": [
       "<matplotlib.axes._subplots.AxesSubplot at 0x116a5efd0>"
      ]
     },
     "execution_count": 13,
     "metadata": {},
     "output_type": "execute_result"
    },
    {
     "data": {
      "image/png": "[encoded data removed]",
      "text/plain": [
       "<Figure size 432x288 with 1 Axes>"
      ]
     },
     "metadata": {
      "needs_background": "light"
     },
     "output_type": "display_data"
    }
   ],
   "source": [
    "sf_shape.plot()"
   ]
  },
  {
   "cell_type": "markdown",
   "metadata": {},
   "source": [
    "Creating a map requires joining the shape file with our csv file. To do so, we created a new column called \"Neighborhood\" for our shape file."
   ]
  },
  {
   "cell_type": "code",
   "execution_count": 14,
   "metadata": {},
   "outputs": [],
   "source": [
    "sf_shape['Neighborhood'] = sf_shape['nhood']"
   ]
  },
  {
   "cell_type": "markdown",
   "metadata": {},
   "source": [
    "We then joined the two files on the column \"Neighborhood.\""
   ]
  },
  {
   "cell_type": "code",
   "execution_count": 59,
   "metadata": {},
   "outputs": [],
   "source": [
    "joined = sf_shape.merge(\n",
    "    waste_by_area,\n",
    "    on = \"Neighborhood\",\n",
    "    how = \"left\",\n",
    ")"
   ]
  },
  {
   "cell_type": "code",
   "execution_count": 60,
   "metadata": {},
   "outputs": [
    {
     "data": {
      "text/html": [
       "<div>\n",
       "<style scoped>\n",
       "    .dataframe tbody tr th:only-of-type {\n",
       "        vertical-align: middle;\n",
       "    }\n",
       "\n",
       "    .dataframe tbody tr th {\n",
       "        vertical-align: top;\n",
       "    }\n",
       "\n",
       "    .dataframe thead th {\n",
       "        text-align: right;\n",
       "    }\n",
       "</style>\n",
       "<table border=\"1\" class=\"dataframe\">\n",
       "  <thead>\n",
       "    <tr style=\"text-align: right;\">\n",
       "      <th></th>\n",
       "      <th>nhood</th>\n",
       "      <th>geometry</th>\n",
       "      <th>Neighborhood</th>\n",
       "      <th>count</th>\n",
       "    </tr>\n",
       "  </thead>\n",
       "  <tbody>\n",
       "    <tr>\n",
       "      <th>0</th>\n",
       "      <td>Bayview Hunters Point</td>\n",
       "      <td>POLYGON ((-122.38158 37.75307, -122.38157 37.7...</td>\n",
       "      <td>Bayview Hunters Point</td>\n",
       "      <td>NaN</td>\n",
       "    </tr>\n",
       "    <tr>\n",
       "      <th>1</th>\n",
       "      <td>Bernal Heights</td>\n",
       "      <td>POLYGON ((-122.40361 37.74934, -122.40378 37.7...</td>\n",
       "      <td>Bernal Heights</td>\n",
       "      <td>264.0</td>\n",
       "    </tr>\n",
       "    <tr>\n",
       "      <th>2</th>\n",
       "      <td>Castro/Upper Market</td>\n",
       "      <td>POLYGON ((-122.42656 37.76948, -122.42695 37.7...</td>\n",
       "      <td>Castro/Upper Market</td>\n",
       "      <td>NaN</td>\n",
       "    </tr>\n",
       "    <tr>\n",
       "      <th>3</th>\n",
       "      <td>Chinatown</td>\n",
       "      <td>POLYGON ((-122.40623 37.79756, -122.40551 37.7...</td>\n",
       "      <td>Chinatown</td>\n",
       "      <td>546.0</td>\n",
       "    </tr>\n",
       "    <tr>\n",
       "      <th>4</th>\n",
       "      <td>Excelsior</td>\n",
       "      <td>POLYGON ((-122.42398 37.73155, -122.42392 37.7...</td>\n",
       "      <td>Excelsior</td>\n",
       "      <td>92.0</td>\n",
       "    </tr>\n",
       "  </tbody>\n",
       "</table>\n",
       "</div>"
      ],
      "text/plain": [
       "                   nhood                                           geometry  \\\n",
       "0  Bayview Hunters Point  POLYGON ((-122.38158 37.75307, -122.38157 37.7...   \n",
       "1         Bernal Heights  POLYGON ((-122.40361 37.74934, -122.40378 37.7...   \n",
       "2    Castro/Upper Market  POLYGON ((-122.42656 37.76948, -122.42695 37.7...   \n",
       "3              Chinatown  POLYGON ((-122.40623 37.79756, -122.40551 37.7...   \n",
       "4              Excelsior  POLYGON ((-122.42398 37.73155, -122.42392 37.7...   \n",
       "\n",
       "            Neighborhood  count  \n",
       "0  Bayview Hunters Point    NaN  \n",
       "1         Bernal Heights  264.0  \n",
       "2    Castro/Upper Market    NaN  \n",
       "3              Chinatown  546.0  \n",
       "4              Excelsior   92.0  "
      ]
     },
     "execution_count": 60,
     "metadata": {},
     "output_type": "execute_result"
    }
   ],
   "source": [
    "joined.head()"
   ]
  },
  {
   "cell_type": "code",
   "execution_count": 61,
   "metadata": {
    "scrolled": true
   },
   "outputs": [
    {
     "name": "stdout",
     "output_type": "stream",
     "text": [
      "<class 'geopandas.geodataframe.GeoDataFrame'>\n",
      "Int64Index: 41 entries, 0 to 40\n",
      "Data columns (total 4 columns):\n",
      " #   Column        Non-Null Count  Dtype   \n",
      "---  ------        --------------  -----   \n",
      " 0   nhood         41 non-null     object  \n",
      " 1   geometry      41 non-null     geometry\n",
      " 2   Neighborhood  41 non-null     object  \n",
      " 3   count         31 non-null     float64 \n",
      "dtypes: float64(1), geometry(1), object(2)\n",
      "memory usage: 1.6+ KB\n"
     ]
    }
   ],
   "source": [
    "joined.info()"
   ]
  },
  {
   "cell_type": "markdown",
   "metadata": {},
   "source": [
    "Sorting values revealed that South of Market had the highest number of calls regarding human and animal wastes (6416 calls), followed by Mission (4148 calls) and Tenderloin (2127 calls)."
   ]
  },
  {
   "cell_type": "code",
   "execution_count": 62,
   "metadata": {
    "scrolled": true
   },
   "outputs": [
    {
     "data": {
      "text/html": [
       "<div>\n",
       "<style scoped>\n",
       "    .dataframe tbody tr th:only-of-type {\n",
       "        vertical-align: middle;\n",
       "    }\n",
       "\n",
       "    .dataframe tbody tr th {\n",
       "        vertical-align: top;\n",
       "    }\n",
       "\n",
       "    .dataframe thead th {\n",
       "        text-align: right;\n",
       "    }\n",
       "</style>\n",
       "<table border=\"1\" class=\"dataframe\">\n",
       "  <thead>\n",
       "    <tr style=\"text-align: right;\">\n",
       "      <th></th>\n",
       "      <th>index</th>\n",
       "      <th>nhood</th>\n",
       "      <th>geometry</th>\n",
       "      <th>Neighborhood</th>\n",
       "      <th>count</th>\n",
       "    </tr>\n",
       "  </thead>\n",
       "  <tbody>\n",
       "    <tr>\n",
       "      <th>0</th>\n",
       "      <td>27</td>\n",
       "      <td>South of Market</td>\n",
       "      <td>POLYGON ((-122.40371 37.78404, -122.40271 37.7...</td>\n",
       "      <td>South of Market</td>\n",
       "      <td>6416.0</td>\n",
       "    </tr>\n",
       "    <tr>\n",
       "      <th>1</th>\n",
       "      <td>20</td>\n",
       "      <td>Mission</td>\n",
       "      <td>POLYGON ((-122.41096 37.76943, -122.41093 37.7...</td>\n",
       "      <td>Mission</td>\n",
       "      <td>4148.0</td>\n",
       "    </tr>\n",
       "    <tr>\n",
       "      <th>2</th>\n",
       "      <td>14</td>\n",
       "      <td>Tenderloin</td>\n",
       "      <td>POLYGON ((-122.41917 37.77528, -122.41926 37.7...</td>\n",
       "      <td>Tenderloin</td>\n",
       "      <td>2127.0</td>\n",
       "    </tr>\n",
       "    <tr>\n",
       "      <th>3</th>\n",
       "      <td>25</td>\n",
       "      <td>North Beach</td>\n",
       "      <td>MULTIPOLYGON (((-122.41152 37.81045, -122.4115...</td>\n",
       "      <td>North Beach</td>\n",
       "      <td>801.0</td>\n",
       "    </tr>\n",
       "    <tr>\n",
       "      <th>4</th>\n",
       "      <td>33</td>\n",
       "      <td>Potrero Hill</td>\n",
       "      <td>POLYGON ((-122.38487 37.76724, -122.38485 37.7...</td>\n",
       "      <td>Potrero Hill</td>\n",
       "      <td>772.0</td>\n",
       "    </tr>\n",
       "  </tbody>\n",
       "</table>\n",
       "</div>"
      ],
      "text/plain": [
       "   index            nhood                                           geometry  \\\n",
       "0     27  South of Market  POLYGON ((-122.40371 37.78404, -122.40271 37.7...   \n",
       "1     20          Mission  POLYGON ((-122.41096 37.76943, -122.41093 37.7...   \n",
       "2     14       Tenderloin  POLYGON ((-122.41917 37.77528, -122.41926 37.7...   \n",
       "3     25      North Beach  MULTIPOLYGON (((-122.41152 37.81045, -122.4115...   \n",
       "4     33     Potrero Hill  POLYGON ((-122.38487 37.76724, -122.38485 37.7...   \n",
       "\n",
       "      Neighborhood   count  \n",
       "0  South of Market  6416.0  \n",
       "1          Mission  4148.0  \n",
       "2       Tenderloin  2127.0  \n",
       "3      North Beach   801.0  \n",
       "4     Potrero Hill   772.0  "
      ]
     },
     "execution_count": 62,
     "metadata": {},
     "output_type": "execute_result"
    }
   ],
   "source": [
    "joined.sort_values(\"count\", ascending = False).head().reset_index()"
   ]
  },
  {
   "cell_type": "markdown",
   "metadata": {},
   "source": [
    "Below is a choropleth map of the human and animal waste 311 calls made in 2019, with darker shades corresponding to more calls. The darkest three are South of Market, Mission and Tenderloin. "
   ]
  },
  {
   "cell_type": "code",
   "execution_count": 71,
   "metadata": {
    "scrolled": true
   },
   "outputs": [
    {
     "data": {
      "text/plain": [
       "<matplotlib.axes._subplots.AxesSubplot at 0x1178432d0>"
      ]
     },
     "execution_count": 71,
     "metadata": {},
     "output_type": "execute_result"
    },
    {
     "data": {
      "image/png": "[encoded data removed]",
      "text/plain": [
       "<Figure size 1152x576 with 1 Axes>"
      ]
     },
     "metadata": {
      "needs_background": "light"
     },
     "output_type": "display_data"
    }
   ],
   "source": [
    "joined.plot(\n",
    "    column = 'count', \n",
    "    cmap = 'Blues',\n",
    "    figsize=(16, 8)\n",
    ")"
   ]
  },
  {
   "cell_type": "markdown",
   "metadata": {},
   "source": [
    "##  Additional question: What about 2009?\n",
    "Since our Part1 analysis goes back to as far as 2009, we decided to see if the top three areas with the most calls about human and animal waste were different back then. Proce"
   ]
  },
  {
   "cell_type": "code",
   "execution_count": 64,
   "metadata": {},
   "outputs": [
    {
     "data": {
      "text/html": [
       "<div>\n",
       "<style scoped>\n",
       "    .dataframe tbody tr th:only-of-type {\n",
       "        vertical-align: middle;\n",
       "    }\n",
       "\n",
       "    .dataframe tbody tr th {\n",
       "        vertical-align: top;\n",
       "    }\n",
       "\n",
       "    .dataframe thead th {\n",
       "        text-align: right;\n",
       "    }\n",
       "</style>\n",
       "<table border=\"1\" class=\"dataframe\">\n",
       "  <thead>\n",
       "    <tr style=\"text-align: right;\">\n",
       "      <th></th>\n",
       "      <th>CaseID</th>\n",
       "      <th>Neighborhood</th>\n",
       "      <th>RequestType</th>\n",
       "      <th>Latitude</th>\n",
       "      <th>Longitude</th>\n",
       "      <th>year</th>\n",
       "    </tr>\n",
       "  </thead>\n",
       "  <tbody>\n",
       "    <tr>\n",
       "      <th>1</th>\n",
       "      <td>571562</td>\n",
       "      <td>North Beach</td>\n",
       "      <td>Human or Animal Waste</td>\n",
       "      <td>37.800602</td>\n",
       "      <td>-122.407898</td>\n",
       "      <td>2009</td>\n",
       "    </tr>\n",
       "    <tr>\n",
       "      <th>2</th>\n",
       "      <td>571550</td>\n",
       "      <td>North Beach</td>\n",
       "      <td>Human or Animal Waste</td>\n",
       "      <td>37.799664</td>\n",
       "      <td>-122.407700</td>\n",
       "      <td>2009</td>\n",
       "    </tr>\n",
       "    <tr>\n",
       "      <th>3</th>\n",
       "      <td>571546</td>\n",
       "      <td>North Beach</td>\n",
       "      <td>Human or Animal Waste</td>\n",
       "      <td>37.799702</td>\n",
       "      <td>-122.407394</td>\n",
       "      <td>2009</td>\n",
       "    </tr>\n",
       "    <tr>\n",
       "      <th>4</th>\n",
       "      <td>571501</td>\n",
       "      <td>South of Market</td>\n",
       "      <td>Human or Animal Waste</td>\n",
       "      <td>37.781754</td>\n",
       "      <td>-122.409691</td>\n",
       "      <td>2009</td>\n",
       "    </tr>\n",
       "    <tr>\n",
       "      <th>6</th>\n",
       "      <td>570884</td>\n",
       "      <td>Tenderloin</td>\n",
       "      <td>Human or Animal Waste</td>\n",
       "      <td>37.783150</td>\n",
       "      <td>-122.409508</td>\n",
       "      <td>2009</td>\n",
       "    </tr>\n",
       "  </tbody>\n",
       "</table>\n",
       "</div>"
      ],
      "text/plain": [
       "   CaseID     Neighborhood            RequestType   Latitude   Longitude  year\n",
       "1  571562      North Beach  Human or Animal Waste  37.800602 -122.407898  2009\n",
       "2  571550      North Beach  Human or Animal Waste  37.799664 -122.407700  2009\n",
       "3  571546      North Beach  Human or Animal Waste  37.799702 -122.407394  2009\n",
       "4  571501  South of Market  Human or Animal Waste  37.781754 -122.409691  2009\n",
       "6  570884       Tenderloin  Human or Animal Waste  37.783150 -122.409508  2009"
      ]
     },
     "execution_count": 64,
     "metadata": {},
     "output_type": "execute_result"
    }
   ],
   "source": [
    "waste_2009 = waste_trunc['year']==2009\n",
    "waste_2009_list = waste_trunc[waste_2009]\n",
    "waste_2009_list.head()"
   ]
  },
  {
   "cell_type": "code",
   "execution_count": 65,
   "metadata": {},
   "outputs": [
    {
     "data": {
      "text/html": [
       "<div>\n",
       "<style scoped>\n",
       "    .dataframe tbody tr th:only-of-type {\n",
       "        vertical-align: middle;\n",
       "    }\n",
       "\n",
       "    .dataframe tbody tr th {\n",
       "        vertical-align: top;\n",
       "    }\n",
       "\n",
       "    .dataframe thead th {\n",
       "        text-align: right;\n",
       "    }\n",
       "</style>\n",
       "<table border=\"1\" class=\"dataframe\">\n",
       "  <thead>\n",
       "    <tr style=\"text-align: right;\">\n",
       "      <th></th>\n",
       "      <th>count</th>\n",
       "    </tr>\n",
       "    <tr>\n",
       "      <th>Neighborhood</th>\n",
       "      <th></th>\n",
       "    </tr>\n",
       "  </thead>\n",
       "  <tbody>\n",
       "    <tr>\n",
       "      <th>Alamo Square</th>\n",
       "      <td>2</td>\n",
       "    </tr>\n",
       "    <tr>\n",
       "      <th>Anza Vista</th>\n",
       "      <td>3</td>\n",
       "    </tr>\n",
       "    <tr>\n",
       "      <th>Aquatic Park / Ft. Mason</th>\n",
       "      <td>4</td>\n",
       "    </tr>\n",
       "    <tr>\n",
       "      <th>Bayview</th>\n",
       "      <td>59</td>\n",
       "    </tr>\n",
       "    <tr>\n",
       "      <th>Bernal Heights</th>\n",
       "      <td>13</td>\n",
       "    </tr>\n",
       "  </tbody>\n",
       "</table>\n",
       "</div>"
      ],
      "text/plain": [
       "                          count\n",
       "Neighborhood                   \n",
       "Alamo Square                  2\n",
       "Anza Vista                    3\n",
       "Aquatic Park / Ft. Mason      4\n",
       "Bayview                      59\n",
       "Bernal Heights               13"
      ]
     },
     "execution_count": 65,
     "metadata": {},
     "output_type": "execute_result"
    }
   ],
   "source": [
    "waste_by_area_2009 = waste_2009_list.fillna(\"None\").groupby('Neighborhood').count()\n",
    "waste_by_area_2009['count'] = waste_by_area_2009['CaseID']\n",
    "waste_by_area_2009 = waste_by_area_2009[['count']] \n",
    "waste_by_area_2009.head()"
   ]
  },
  {
   "cell_type": "code",
   "execution_count": 66,
   "metadata": {},
   "outputs": [],
   "source": [
    "joined_2009 = sf_shape.merge(\n",
    "    waste_by_area_2009,\n",
    "    on = \"Neighborhood\",\n",
    "    how = \"left\",\n",
    ")"
   ]
  },
  {
   "cell_type": "code",
   "execution_count": 67,
   "metadata": {},
   "outputs": [
    {
     "data": {
      "text/html": [
       "<div>\n",
       "<style scoped>\n",
       "    .dataframe tbody tr th:only-of-type {\n",
       "        vertical-align: middle;\n",
       "    }\n",
       "\n",
       "    .dataframe tbody tr th {\n",
       "        vertical-align: top;\n",
       "    }\n",
       "\n",
       "    .dataframe thead th {\n",
       "        text-align: right;\n",
       "    }\n",
       "</style>\n",
       "<table border=\"1\" class=\"dataframe\">\n",
       "  <thead>\n",
       "    <tr style=\"text-align: right;\">\n",
       "      <th></th>\n",
       "      <th>index</th>\n",
       "      <th>nhood</th>\n",
       "      <th>geometry</th>\n",
       "      <th>Neighborhood</th>\n",
       "      <th>count</th>\n",
       "    </tr>\n",
       "  </thead>\n",
       "  <tbody>\n",
       "    <tr>\n",
       "      <th>0</th>\n",
       "      <td>14</td>\n",
       "      <td>Tenderloin</td>\n",
       "      <td>POLYGON ((-122.41917 37.77528, -122.41926 37.7...</td>\n",
       "      <td>Tenderloin</td>\n",
       "      <td>1948.0</td>\n",
       "    </tr>\n",
       "    <tr>\n",
       "      <th>1</th>\n",
       "      <td>27</td>\n",
       "      <td>South of Market</td>\n",
       "      <td>POLYGON ((-122.40371 37.78404, -122.40271 37.7...</td>\n",
       "      <td>South of Market</td>\n",
       "      <td>816.0</td>\n",
       "    </tr>\n",
       "    <tr>\n",
       "      <th>2</th>\n",
       "      <td>20</td>\n",
       "      <td>Mission</td>\n",
       "      <td>POLYGON ((-122.41096 37.76943, -122.41093 37.7...</td>\n",
       "      <td>Mission</td>\n",
       "      <td>685.0</td>\n",
       "    </tr>\n",
       "    <tr>\n",
       "      <th>3</th>\n",
       "      <td>25</td>\n",
       "      <td>North Beach</td>\n",
       "      <td>MULTIPOLYGON (((-122.41152 37.81045, -122.4115...</td>\n",
       "      <td>North Beach</td>\n",
       "      <td>84.0</td>\n",
       "    </tr>\n",
       "    <tr>\n",
       "      <th>4</th>\n",
       "      <td>4</td>\n",
       "      <td>Excelsior</td>\n",
       "      <td>POLYGON ((-122.42398 37.73155, -122.42392 37.7...</td>\n",
       "      <td>Excelsior</td>\n",
       "      <td>58.0</td>\n",
       "    </tr>\n",
       "  </tbody>\n",
       "</table>\n",
       "</div>"
      ],
      "text/plain": [
       "   index            nhood                                           geometry  \\\n",
       "0     14       Tenderloin  POLYGON ((-122.41917 37.77528, -122.41926 37.7...   \n",
       "1     27  South of Market  POLYGON ((-122.40371 37.78404, -122.40271 37.7...   \n",
       "2     20          Mission  POLYGON ((-122.41096 37.76943, -122.41093 37.7...   \n",
       "3     25      North Beach  MULTIPOLYGON (((-122.41152 37.81045, -122.4115...   \n",
       "4      4        Excelsior  POLYGON ((-122.42398 37.73155, -122.42392 37.7...   \n",
       "\n",
       "      Neighborhood   count  \n",
       "0       Tenderloin  1948.0  \n",
       "1  South of Market   816.0  \n",
       "2          Mission   685.0  \n",
       "3      North Beach    84.0  \n",
       "4        Excelsior    58.0  "
      ]
     },
     "execution_count": 67,
     "metadata": {},
     "output_type": "execute_result"
    }
   ],
   "source": [
    "joined_2009.sort_values(\"count\", ascending = False).head().reset_index()"
   ]
  },
  {
   "cell_type": "markdown",
   "metadata": {},
   "source": [
    "This reveals that the top three neighborhoods were still dominant in 2009, but the order changed. Tenderloin was at the highest with 1948 calls, followed by South of Market (816 calls), then Mission (685 calls). Calls about wastes in Tenderloin were much higher than either of the two – more than twice the second place, South of Market, and nearly three times  the third place, Mission.\n",
    "\n",
    "Another interesting aspect to note is that the raw counts of calls by neighborhood seem to be much higher for the top three neighborhoods in 2019 compared to 2009. "
   ]
  },
  {
   "cell_type": "code",
   "execution_count": 70,
   "metadata": {},
   "outputs": [
    {
     "data": {
      "text/plain": [
       "<matplotlib.axes._subplots.AxesSubplot at 0x1177f39d0>"
      ]
     },
     "execution_count": 70,
     "metadata": {},
     "output_type": "execute_result"
    },
    {
     "data": {
      "image/png": "[encoded data removed]",
      "text/plain": [
       "<Figure size 1152x576 with 1 Axes>"
      ]
     },
     "metadata": {
      "needs_background": "light"
     },
     "output_type": "display_data"
    }
   ],
   "source": [
    "joined_2009.plot(\n",
    "    column = 'count', \n",
    "    cmap = 'Blues',\n",
    "    figsize=(16, 8)\n",
    ")"
   ]
  },
  {
   "cell_type": "code",
   "execution_count": null,
   "metadata": {},
   "outputs": [],
   "source": []
  }
 ],
 "metadata": {
  "kernelspec": {
   "display_name": "Python 3",
   "language": "python",
   "name": "python3"
  },
  "language_info": {
   "codemirror_mode": {
    "name": "ipython",
    "version": 3
   },
   "file_extension": ".py",
   "mimetype": "text/x-python",
   "name": "python",
   "nbconvert_exporter": "python",
   "pygments_lexer": "ipython3",
   "version": "3.7.6"
  }
 },
 "nbformat": 4,
 "nbformat_minor": 4
}
